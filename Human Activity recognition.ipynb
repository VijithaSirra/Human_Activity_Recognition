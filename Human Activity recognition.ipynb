{
 "cells": [
  {
   "cell_type": "markdown",
   "metadata": {},
   "source": [
    "## Import necessary libraries "
   ]
  },
  {
   "cell_type": "code",
   "execution_count": 1,
   "metadata": {},
   "outputs": [],
   "source": [
    "import pandas as pd\n",
    "import seaborn as sns\n",
    "import matplotlib.pyplot as plt\n",
    "import warnings as wr\n",
    "wr.filterwarnings('ignore')\n",
    "\n",
    "\n",
    "train = pd.read_csv(\"train.csv\")\n",
    "test = pd.read_csv(\"test.csv\")\n",
    "\n",
    "human = pd.concat([train,test])"
   ]
  },
  {
   "cell_type": "code",
   "execution_count": 2,
   "metadata": {},
   "outputs": [
    {
     "data": {
      "text/html": [
       "<div>\n",
       "<style scoped>\n",
       "    .dataframe tbody tr th:only-of-type {\n",
       "        vertical-align: middle;\n",
       "    }\n",
       "\n",
       "    .dataframe tbody tr th {\n",
       "        vertical-align: top;\n",
       "    }\n",
       "\n",
       "    .dataframe thead th {\n",
       "        text-align: right;\n",
       "    }\n",
       "</style>\n",
       "<table border=\"1\" class=\"dataframe\">\n",
       "  <thead>\n",
       "    <tr style=\"text-align: right;\">\n",
       "      <th></th>\n",
       "      <th>tBodyAccmeanX</th>\n",
       "      <th>tBodyAccmeanY</th>\n",
       "      <th>tBodyAccmeanZ</th>\n",
       "      <th>tBodyAccstdX</th>\n",
       "      <th>tBodyAccstdY</th>\n",
       "      <th>tBodyAccstdZ</th>\n",
       "      <th>tBodyAccmadX</th>\n",
       "      <th>tBodyAccmadY</th>\n",
       "      <th>tBodyAccmadZ</th>\n",
       "      <th>tBodyAccmaxX</th>\n",
       "      <th>...</th>\n",
       "      <th>angletBodyAccMeangravity</th>\n",
       "      <th>angletBodyAccJerkMeangravityMean</th>\n",
       "      <th>angletBodyGyroMeangravityMean</th>\n",
       "      <th>angletBodyGyroJerkMeangravityMean</th>\n",
       "      <th>angleXgravityMean</th>\n",
       "      <th>angleYgravityMean</th>\n",
       "      <th>angleZgravityMean</th>\n",
       "      <th>subject</th>\n",
       "      <th>Activity</th>\n",
       "      <th>ActivityName</th>\n",
       "    </tr>\n",
       "  </thead>\n",
       "  <tbody>\n",
       "    <tr>\n",
       "      <th>0</th>\n",
       "      <td>0.288585</td>\n",
       "      <td>-0.020294</td>\n",
       "      <td>-0.132905</td>\n",
       "      <td>-0.995279</td>\n",
       "      <td>-0.983111</td>\n",
       "      <td>-0.913526</td>\n",
       "      <td>-0.995112</td>\n",
       "      <td>-0.983185</td>\n",
       "      <td>-0.923527</td>\n",
       "      <td>-0.934724</td>\n",
       "      <td>...</td>\n",
       "      <td>-0.112754</td>\n",
       "      <td>0.030400</td>\n",
       "      <td>-0.464761</td>\n",
       "      <td>-0.018446</td>\n",
       "      <td>-0.841247</td>\n",
       "      <td>0.179941</td>\n",
       "      <td>-0.058627</td>\n",
       "      <td>1.0</td>\n",
       "      <td>5.0</td>\n",
       "      <td>STANDING</td>\n",
       "    </tr>\n",
       "    <tr>\n",
       "      <th>1</th>\n",
       "      <td>0.278419</td>\n",
       "      <td>-0.016411</td>\n",
       "      <td>-0.123520</td>\n",
       "      <td>-0.998245</td>\n",
       "      <td>-0.975300</td>\n",
       "      <td>-0.960322</td>\n",
       "      <td>-0.998807</td>\n",
       "      <td>-0.974914</td>\n",
       "      <td>-0.957686</td>\n",
       "      <td>-0.943068</td>\n",
       "      <td>...</td>\n",
       "      <td>0.053477</td>\n",
       "      <td>-0.007435</td>\n",
       "      <td>-0.732626</td>\n",
       "      <td>0.703511</td>\n",
       "      <td>-0.844788</td>\n",
       "      <td>0.180289</td>\n",
       "      <td>-0.054317</td>\n",
       "      <td>1.0</td>\n",
       "      <td>5.0</td>\n",
       "      <td>STANDING</td>\n",
       "    </tr>\n",
       "    <tr>\n",
       "      <th>2</th>\n",
       "      <td>0.279653</td>\n",
       "      <td>-0.019467</td>\n",
       "      <td>-0.113462</td>\n",
       "      <td>-0.995380</td>\n",
       "      <td>-0.967187</td>\n",
       "      <td>-0.978944</td>\n",
       "      <td>-0.996520</td>\n",
       "      <td>-0.963668</td>\n",
       "      <td>-0.977469</td>\n",
       "      <td>-0.938692</td>\n",
       "      <td>...</td>\n",
       "      <td>-0.118559</td>\n",
       "      <td>0.177899</td>\n",
       "      <td>0.100699</td>\n",
       "      <td>0.808529</td>\n",
       "      <td>-0.848933</td>\n",
       "      <td>0.180637</td>\n",
       "      <td>-0.049118</td>\n",
       "      <td>1.0</td>\n",
       "      <td>5.0</td>\n",
       "      <td>STANDING</td>\n",
       "    </tr>\n",
       "    <tr>\n",
       "      <th>3</th>\n",
       "      <td>0.279174</td>\n",
       "      <td>-0.026201</td>\n",
       "      <td>-0.123283</td>\n",
       "      <td>-0.996091</td>\n",
       "      <td>-0.983403</td>\n",
       "      <td>-0.990675</td>\n",
       "      <td>-0.997099</td>\n",
       "      <td>-0.982750</td>\n",
       "      <td>-0.989302</td>\n",
       "      <td>-0.938692</td>\n",
       "      <td>...</td>\n",
       "      <td>-0.036788</td>\n",
       "      <td>-0.012892</td>\n",
       "      <td>0.640011</td>\n",
       "      <td>-0.485366</td>\n",
       "      <td>-0.848649</td>\n",
       "      <td>0.181935</td>\n",
       "      <td>-0.047663</td>\n",
       "      <td>1.0</td>\n",
       "      <td>5.0</td>\n",
       "      <td>STANDING</td>\n",
       "    </tr>\n",
       "    <tr>\n",
       "      <th>4</th>\n",
       "      <td>0.276629</td>\n",
       "      <td>-0.016570</td>\n",
       "      <td>-0.115362</td>\n",
       "      <td>-0.998139</td>\n",
       "      <td>-0.980817</td>\n",
       "      <td>-0.990482</td>\n",
       "      <td>-0.998321</td>\n",
       "      <td>-0.979672</td>\n",
       "      <td>-0.990441</td>\n",
       "      <td>-0.942469</td>\n",
       "      <td>...</td>\n",
       "      <td>0.123320</td>\n",
       "      <td>0.122542</td>\n",
       "      <td>0.693578</td>\n",
       "      <td>-0.615971</td>\n",
       "      <td>-0.847865</td>\n",
       "      <td>0.185151</td>\n",
       "      <td>-0.043892</td>\n",
       "      <td>1.0</td>\n",
       "      <td>5.0</td>\n",
       "      <td>STANDING</td>\n",
       "    </tr>\n",
       "  </tbody>\n",
       "</table>\n",
       "<p>5 rows × 564 columns</p>\n",
       "</div>"
      ],
      "text/plain": [
       "   tBodyAccmeanX  tBodyAccmeanY  tBodyAccmeanZ  tBodyAccstdX  tBodyAccstdY  \\\n",
       "0       0.288585      -0.020294      -0.132905     -0.995279     -0.983111   \n",
       "1       0.278419      -0.016411      -0.123520     -0.998245     -0.975300   \n",
       "2       0.279653      -0.019467      -0.113462     -0.995380     -0.967187   \n",
       "3       0.279174      -0.026201      -0.123283     -0.996091     -0.983403   \n",
       "4       0.276629      -0.016570      -0.115362     -0.998139     -0.980817   \n",
       "\n",
       "   tBodyAccstdZ  tBodyAccmadX  tBodyAccmadY  tBodyAccmadZ  tBodyAccmaxX  ...  \\\n",
       "0     -0.913526     -0.995112     -0.983185     -0.923527     -0.934724  ...   \n",
       "1     -0.960322     -0.998807     -0.974914     -0.957686     -0.943068  ...   \n",
       "2     -0.978944     -0.996520     -0.963668     -0.977469     -0.938692  ...   \n",
       "3     -0.990675     -0.997099     -0.982750     -0.989302     -0.938692  ...   \n",
       "4     -0.990482     -0.998321     -0.979672     -0.990441     -0.942469  ...   \n",
       "\n",
       "   angletBodyAccMeangravity  angletBodyAccJerkMeangravityMean  \\\n",
       "0                 -0.112754                          0.030400   \n",
       "1                  0.053477                         -0.007435   \n",
       "2                 -0.118559                          0.177899   \n",
       "3                 -0.036788                         -0.012892   \n",
       "4                  0.123320                          0.122542   \n",
       "\n",
       "   angletBodyGyroMeangravityMean  angletBodyGyroJerkMeangravityMean  \\\n",
       "0                      -0.464761                          -0.018446   \n",
       "1                      -0.732626                           0.703511   \n",
       "2                       0.100699                           0.808529   \n",
       "3                       0.640011                          -0.485366   \n",
       "4                       0.693578                          -0.615971   \n",
       "\n",
       "   angleXgravityMean  angleYgravityMean  angleZgravityMean  subject  Activity  \\\n",
       "0          -0.841247           0.179941          -0.058627      1.0       5.0   \n",
       "1          -0.844788           0.180289          -0.054317      1.0       5.0   \n",
       "2          -0.848933           0.180637          -0.049118      1.0       5.0   \n",
       "3          -0.848649           0.181935          -0.047663      1.0       5.0   \n",
       "4          -0.847865           0.185151          -0.043892      1.0       5.0   \n",
       "\n",
       "   ActivityName  \n",
       "0      STANDING  \n",
       "1      STANDING  \n",
       "2      STANDING  \n",
       "3      STANDING  \n",
       "4      STANDING  \n",
       "\n",
       "[5 rows x 564 columns]"
      ]
     },
     "execution_count": 2,
     "metadata": {},
     "output_type": "execute_result"
    }
   ],
   "source": [
    "human.head()"
   ]
  },
  {
   "cell_type": "code",
   "execution_count": 3,
   "metadata": {},
   "outputs": [
    {
     "data": {
      "text/plain": [
       "Index(['tBodyAccmeanX', 'tBodyAccmeanY', 'tBodyAccmeanZ', 'tBodyAccstdX',\n",
       "       'tBodyAccstdY', 'tBodyAccstdZ', 'tBodyAccmadX', 'tBodyAccmadY',\n",
       "       'tBodyAccmadZ', 'tBodyAccmaxX',\n",
       "       ...\n",
       "       'angletBodyAccMeangravity', 'angletBodyAccJerkMeangravityMean',\n",
       "       'angletBodyGyroMeangravityMean', 'angletBodyGyroJerkMeangravityMean',\n",
       "       'angleXgravityMean', 'angleYgravityMean', 'angleZgravityMean',\n",
       "       'subject', 'Activity', 'ActivityName'],\n",
       "      dtype='object', length=564)"
      ]
     },
     "execution_count": 3,
     "metadata": {},
     "output_type": "execute_result"
    }
   ],
   "source": [
    "human.columns"
   ]
  },
  {
   "cell_type": "code",
   "execution_count": 4,
   "metadata": {},
   "outputs": [
    {
     "data": {
      "text/plain": [
       "(564,)"
      ]
     },
     "execution_count": 4,
     "metadata": {},
     "output_type": "execute_result"
    }
   ],
   "source": [
    "human.columns.shape"
   ]
  },
  {
   "cell_type": "code",
   "execution_count": 5,
   "metadata": {},
   "outputs": [
    {
     "data": {
      "text/plain": [
       "(1075, 564)"
      ]
     },
     "execution_count": 5,
     "metadata": {},
     "output_type": "execute_result"
    }
   ],
   "source": [
    "human.shape"
   ]
  },
  {
   "cell_type": "code",
   "execution_count": 6,
   "metadata": {},
   "outputs": [
    {
     "data": {
      "text/plain": [
       "544"
      ]
     },
     "execution_count": 6,
     "metadata": {},
     "output_type": "execute_result"
    }
   ],
   "source": [
    "human.isnull().any().sum()"
   ]
  },
  {
   "cell_type": "code",
   "execution_count": 7,
   "metadata": {},
   "outputs": [],
   "source": [
    "human = human.fillna(0)"
   ]
  },
  {
   "cell_type": "code",
   "execution_count": 8,
   "metadata": {},
   "outputs": [
    {
     "data": {
      "text/plain": [
       "array(['STANDING', 'SITTING', 'LAYING', 'WALKING', 'WALKING_DOWNSTAIRS',\n",
       "       'WALKING_UPSTAIRS', 0], dtype=object)"
      ]
     },
     "execution_count": 8,
     "metadata": {},
     "output_type": "execute_result"
    }
   ],
   "source": [
    "human.ActivityName.unique()"
   ]
  },
  {
   "cell_type": "code",
   "execution_count": 9,
   "metadata": {},
   "outputs": [
    {
     "data": {
      "text/html": [
       "<div>\n",
       "<style scoped>\n",
       "    .dataframe tbody tr th:only-of-type {\n",
       "        vertical-align: middle;\n",
       "    }\n",
       "\n",
       "    .dataframe tbody tr th {\n",
       "        vertical-align: top;\n",
       "    }\n",
       "\n",
       "    .dataframe thead th {\n",
       "        text-align: right;\n",
       "    }\n",
       "</style>\n",
       "<table border=\"1\" class=\"dataframe\">\n",
       "  <thead>\n",
       "    <tr style=\"text-align: right;\">\n",
       "      <th></th>\n",
       "      <th>tBodyAccmeanX</th>\n",
       "      <th>tBodyAccmeanY</th>\n",
       "      <th>tBodyAccmeanZ</th>\n",
       "      <th>tBodyAccstdX</th>\n",
       "      <th>tBodyAccstdY</th>\n",
       "      <th>tBodyAccstdZ</th>\n",
       "      <th>tBodyAccmadX</th>\n",
       "      <th>tBodyAccmadY</th>\n",
       "      <th>tBodyAccmadZ</th>\n",
       "      <th>tBodyAccmaxX</th>\n",
       "      <th>...</th>\n",
       "      <th>angletBodyAccMeangravity</th>\n",
       "      <th>angletBodyAccJerkMeangravityMean</th>\n",
       "      <th>angletBodyGyroMeangravityMean</th>\n",
       "      <th>angletBodyGyroJerkMeangravityMean</th>\n",
       "      <th>angleXgravityMean</th>\n",
       "      <th>angleYgravityMean</th>\n",
       "      <th>angleZgravityMean</th>\n",
       "      <th>subject</th>\n",
       "      <th>Activity</th>\n",
       "      <th>ActivityName</th>\n",
       "    </tr>\n",
       "  </thead>\n",
       "  <tbody>\n",
       "    <tr>\n",
       "      <th>0</th>\n",
       "      <td>0.288585</td>\n",
       "      <td>-0.020294</td>\n",
       "      <td>-0.132905</td>\n",
       "      <td>-0.995279</td>\n",
       "      <td>-0.983111</td>\n",
       "      <td>-0.913526</td>\n",
       "      <td>-0.995112</td>\n",
       "      <td>-0.983185</td>\n",
       "      <td>-0.923527</td>\n",
       "      <td>-0.934724</td>\n",
       "      <td>...</td>\n",
       "      <td>-0.112754</td>\n",
       "      <td>0.030400</td>\n",
       "      <td>-0.464761</td>\n",
       "      <td>-0.018446</td>\n",
       "      <td>-0.841247</td>\n",
       "      <td>0.179941</td>\n",
       "      <td>-0.058627</td>\n",
       "      <td>1.0</td>\n",
       "      <td>5.0</td>\n",
       "      <td>STANDING</td>\n",
       "    </tr>\n",
       "    <tr>\n",
       "      <th>1</th>\n",
       "      <td>0.278419</td>\n",
       "      <td>-0.016411</td>\n",
       "      <td>-0.123520</td>\n",
       "      <td>-0.998245</td>\n",
       "      <td>-0.975300</td>\n",
       "      <td>-0.960322</td>\n",
       "      <td>-0.998807</td>\n",
       "      <td>-0.974914</td>\n",
       "      <td>-0.957686</td>\n",
       "      <td>-0.943068</td>\n",
       "      <td>...</td>\n",
       "      <td>0.053477</td>\n",
       "      <td>-0.007435</td>\n",
       "      <td>-0.732626</td>\n",
       "      <td>0.703511</td>\n",
       "      <td>-0.844788</td>\n",
       "      <td>0.180289</td>\n",
       "      <td>-0.054317</td>\n",
       "      <td>1.0</td>\n",
       "      <td>5.0</td>\n",
       "      <td>STANDING</td>\n",
       "    </tr>\n",
       "    <tr>\n",
       "      <th>2</th>\n",
       "      <td>0.279653</td>\n",
       "      <td>-0.019467</td>\n",
       "      <td>-0.113462</td>\n",
       "      <td>-0.995380</td>\n",
       "      <td>-0.967187</td>\n",
       "      <td>-0.978944</td>\n",
       "      <td>-0.996520</td>\n",
       "      <td>-0.963668</td>\n",
       "      <td>-0.977469</td>\n",
       "      <td>-0.938692</td>\n",
       "      <td>...</td>\n",
       "      <td>-0.118559</td>\n",
       "      <td>0.177899</td>\n",
       "      <td>0.100699</td>\n",
       "      <td>0.808529</td>\n",
       "      <td>-0.848933</td>\n",
       "      <td>0.180637</td>\n",
       "      <td>-0.049118</td>\n",
       "      <td>1.0</td>\n",
       "      <td>5.0</td>\n",
       "      <td>STANDING</td>\n",
       "    </tr>\n",
       "    <tr>\n",
       "      <th>3</th>\n",
       "      <td>0.279174</td>\n",
       "      <td>-0.026201</td>\n",
       "      <td>-0.123283</td>\n",
       "      <td>-0.996091</td>\n",
       "      <td>-0.983403</td>\n",
       "      <td>-0.990675</td>\n",
       "      <td>-0.997099</td>\n",
       "      <td>-0.982750</td>\n",
       "      <td>-0.989302</td>\n",
       "      <td>-0.938692</td>\n",
       "      <td>...</td>\n",
       "      <td>-0.036788</td>\n",
       "      <td>-0.012892</td>\n",
       "      <td>0.640011</td>\n",
       "      <td>-0.485366</td>\n",
       "      <td>-0.848649</td>\n",
       "      <td>0.181935</td>\n",
       "      <td>-0.047663</td>\n",
       "      <td>1.0</td>\n",
       "      <td>5.0</td>\n",
       "      <td>STANDING</td>\n",
       "    </tr>\n",
       "    <tr>\n",
       "      <th>4</th>\n",
       "      <td>0.276629</td>\n",
       "      <td>-0.016570</td>\n",
       "      <td>-0.115362</td>\n",
       "      <td>-0.998139</td>\n",
       "      <td>-0.980817</td>\n",
       "      <td>-0.990482</td>\n",
       "      <td>-0.998321</td>\n",
       "      <td>-0.979672</td>\n",
       "      <td>-0.990441</td>\n",
       "      <td>-0.942469</td>\n",
       "      <td>...</td>\n",
       "      <td>0.123320</td>\n",
       "      <td>0.122542</td>\n",
       "      <td>0.693578</td>\n",
       "      <td>-0.615971</td>\n",
       "      <td>-0.847865</td>\n",
       "      <td>0.185151</td>\n",
       "      <td>-0.043892</td>\n",
       "      <td>1.0</td>\n",
       "      <td>5.0</td>\n",
       "      <td>STANDING</td>\n",
       "    </tr>\n",
       "  </tbody>\n",
       "</table>\n",
       "<p>5 rows × 564 columns</p>\n",
       "</div>"
      ],
      "text/plain": [
       "   tBodyAccmeanX  tBodyAccmeanY  tBodyAccmeanZ  tBodyAccstdX  tBodyAccstdY  \\\n",
       "0       0.288585      -0.020294      -0.132905     -0.995279     -0.983111   \n",
       "1       0.278419      -0.016411      -0.123520     -0.998245     -0.975300   \n",
       "2       0.279653      -0.019467      -0.113462     -0.995380     -0.967187   \n",
       "3       0.279174      -0.026201      -0.123283     -0.996091     -0.983403   \n",
       "4       0.276629      -0.016570      -0.115362     -0.998139     -0.980817   \n",
       "\n",
       "   tBodyAccstdZ  tBodyAccmadX  tBodyAccmadY  tBodyAccmadZ  tBodyAccmaxX  ...  \\\n",
       "0     -0.913526     -0.995112     -0.983185     -0.923527     -0.934724  ...   \n",
       "1     -0.960322     -0.998807     -0.974914     -0.957686     -0.943068  ...   \n",
       "2     -0.978944     -0.996520     -0.963668     -0.977469     -0.938692  ...   \n",
       "3     -0.990675     -0.997099     -0.982750     -0.989302     -0.938692  ...   \n",
       "4     -0.990482     -0.998321     -0.979672     -0.990441     -0.942469  ...   \n",
       "\n",
       "   angletBodyAccMeangravity  angletBodyAccJerkMeangravityMean  \\\n",
       "0                 -0.112754                          0.030400   \n",
       "1                  0.053477                         -0.007435   \n",
       "2                 -0.118559                          0.177899   \n",
       "3                 -0.036788                         -0.012892   \n",
       "4                  0.123320                          0.122542   \n",
       "\n",
       "   angletBodyGyroMeangravityMean  angletBodyGyroJerkMeangravityMean  \\\n",
       "0                      -0.464761                          -0.018446   \n",
       "1                      -0.732626                           0.703511   \n",
       "2                       0.100699                           0.808529   \n",
       "3                       0.640011                          -0.485366   \n",
       "4                       0.693578                          -0.615971   \n",
       "\n",
       "   angleXgravityMean  angleYgravityMean  angleZgravityMean  subject  Activity  \\\n",
       "0          -0.841247           0.179941          -0.058627      1.0       5.0   \n",
       "1          -0.844788           0.180289          -0.054317      1.0       5.0   \n",
       "2          -0.848933           0.180637          -0.049118      1.0       5.0   \n",
       "3          -0.848649           0.181935          -0.047663      1.0       5.0   \n",
       "4          -0.847865           0.185151          -0.043892      1.0       5.0   \n",
       "\n",
       "   ActivityName  \n",
       "0      STANDING  \n",
       "1      STANDING  \n",
       "2      STANDING  \n",
       "3      STANDING  \n",
       "4      STANDING  \n",
       "\n",
       "[5 rows x 564 columns]"
      ]
     },
     "execution_count": 9,
     "metadata": {},
     "output_type": "execute_result"
    }
   ],
   "source": [
    "human.head()"
   ]
  },
  {
   "cell_type": "code",
   "execution_count": 10,
   "metadata": {},
   "outputs": [
    {
     "name": "stdout",
     "output_type": "stream",
     "text": [
      "STANDING              208\n",
      "SITTING               193\n",
      "WALKING               192\n",
      "LAYING                190\n",
      "WALKING_UPSTAIRS      152\n",
      "WALKING_DOWNSTAIRS    138\n",
      "0                       2\n",
      "Name: ActivityName, dtype: int64\n"
     ]
    }
   ],
   "source": [
    "print(human.ActivityName.value_counts())\n"
   ]
  },
  {
   "cell_type": "code",
   "execution_count": 11,
   "metadata": {},
   "outputs": [
    {
     "data": {
      "image/png": "[encoded data removed]",
      "text/plain": [
       "<Figure size 936x432 with 1 Axes>"
      ]
     },
     "metadata": {},
     "output_type": "display_data"
    }
   ],
   "source": [
    "sns.set(rc={'figure.figsize':(13,6)})\n",
    "fig = sns.countplot(x = \"ActivityName\" , data = human)\n",
    "plt.xlabel(\"Activity\")\n",
    "plt.ylabel(\"Count\")\n",
    "plt.title(\"Activity Count\")\n",
    "plt.grid(True)\n",
    "plt.show(fig)"
   ]
  },
  {
   "cell_type": "code",
   "execution_count": 12,
   "metadata": {},
   "outputs": [
    {
     "data": {
      "text/html": [
       "<style  type=\"text/css\" >\n",
       "    #T_4088f18a_1038_11ea_b4b8_28d244702704row0_col0 {\n",
       "            background-color:  #ff0000;\n",
       "            color:  #f1f1f1;\n",
       "        }    #T_4088f18a_1038_11ea_b4b8_28d244702704row0_col1 {\n",
       "            background-color:  #ffff00;\n",
       "            color:  #000000;\n",
       "        }    #T_4088f18a_1038_11ea_b4b8_28d244702704row0_col2 {\n",
       "            background-color:  #ffff00;\n",
       "            color:  #000000;\n",
       "        }    #T_4088f18a_1038_11ea_b4b8_28d244702704row0_col3 {\n",
       "            background-color:  #ffff00;\n",
       "            color:  #000000;\n",
       "        }    #T_4088f18a_1038_11ea_b4b8_28d244702704row0_col4 {\n",
       "            background-color:  #ffff00;\n",
       "            color:  #000000;\n",
       "        }    #T_4088f18a_1038_11ea_b4b8_28d244702704row0_col5 {\n",
       "            background-color:  #ffff00;\n",
       "            color:  #000000;\n",
       "        }    #T_4088f18a_1038_11ea_b4b8_28d244702704row0_col6 {\n",
       "            background-color:  #ffff00;\n",
       "            color:  #000000;\n",
       "        }    #T_4088f18a_1038_11ea_b4b8_28d244702704row0_col7 {\n",
       "            background-color:  #ffff00;\n",
       "            color:  #000000;\n",
       "        }    #T_4088f18a_1038_11ea_b4b8_28d244702704row1_col0 {\n",
       "            background-color:  #ffff00;\n",
       "            color:  #000000;\n",
       "        }    #T_4088f18a_1038_11ea_b4b8_28d244702704row1_col1 {\n",
       "            background-color:  #ffbd00;\n",
       "            color:  #000000;\n",
       "        }    #T_4088f18a_1038_11ea_b4b8_28d244702704row1_col2 {\n",
       "            background-color:  #ffc100;\n",
       "            color:  #000000;\n",
       "        }    #T_4088f18a_1038_11ea_b4b8_28d244702704row1_col3 {\n",
       "            background-color:  #ffbe00;\n",
       "            color:  #000000;\n",
       "        }    #T_4088f18a_1038_11ea_b4b8_28d244702704row1_col4 {\n",
       "            background-color:  #ffc100;\n",
       "            color:  #000000;\n",
       "        }    #T_4088f18a_1038_11ea_b4b8_28d244702704row1_col5 {\n",
       "            background-color:  #ffd100;\n",
       "            color:  #000000;\n",
       "        }    #T_4088f18a_1038_11ea_b4b8_28d244702704row1_col6 {\n",
       "            background-color:  #ffd400;\n",
       "            color:  #000000;\n",
       "        }    #T_4088f18a_1038_11ea_b4b8_28d244702704row1_col7 {\n",
       "            background-color:  #ffc500;\n",
       "            color:  #000000;\n",
       "        }    #T_4088f18a_1038_11ea_b4b8_28d244702704row2_col0 {\n",
       "            background-color:  #ffff00;\n",
       "            color:  #000000;\n",
       "        }    #T_4088f18a_1038_11ea_b4b8_28d244702704row2_col1 {\n",
       "            background-color:  #ffbf00;\n",
       "            color:  #000000;\n",
       "        }    #T_4088f18a_1038_11ea_b4b8_28d244702704row2_col2 {\n",
       "            background-color:  #ffc200;\n",
       "            color:  #000000;\n",
       "        }    #T_4088f18a_1038_11ea_b4b8_28d244702704row2_col3 {\n",
       "            background-color:  #ffbd00;\n",
       "            color:  #000000;\n",
       "        }    #T_4088f18a_1038_11ea_b4b8_28d244702704row2_col4 {\n",
       "            background-color:  #ffb100;\n",
       "            color:  #000000;\n",
       "        }    #T_4088f18a_1038_11ea_b4b8_28d244702704row2_col5 {\n",
       "            background-color:  #ffa800;\n",
       "            color:  #000000;\n",
       "        }    #T_4088f18a_1038_11ea_b4b8_28d244702704row2_col6 {\n",
       "            background-color:  #ffaf00;\n",
       "            color:  #000000;\n",
       "        }    #T_4088f18a_1038_11ea_b4b8_28d244702704row2_col7 {\n",
       "            background-color:  #ffb800;\n",
       "            color:  #000000;\n",
       "        }    #T_4088f18a_1038_11ea_b4b8_28d244702704row3_col0 {\n",
       "            background-color:  #ffff00;\n",
       "            color:  #000000;\n",
       "        }    #T_4088f18a_1038_11ea_b4b8_28d244702704row3_col1 {\n",
       "            background-color:  #ffb700;\n",
       "            color:  #000000;\n",
       "        }    #T_4088f18a_1038_11ea_b4b8_28d244702704row3_col2 {\n",
       "            background-color:  #ffbd00;\n",
       "            color:  #000000;\n",
       "        }    #T_4088f18a_1038_11ea_b4b8_28d244702704row3_col3 {\n",
       "            background-color:  #ffbb00;\n",
       "            color:  #000000;\n",
       "        }    #T_4088f18a_1038_11ea_b4b8_28d244702704row3_col4 {\n",
       "            background-color:  #ffaf00;\n",
       "            color:  #000000;\n",
       "        }    #T_4088f18a_1038_11ea_b4b8_28d244702704row3_col5 {\n",
       "            background-color:  #ffac00;\n",
       "            color:  #000000;\n",
       "        }    #T_4088f18a_1038_11ea_b4b8_28d244702704row3_col6 {\n",
       "            background-color:  #ffa800;\n",
       "            color:  #000000;\n",
       "        }    #T_4088f18a_1038_11ea_b4b8_28d244702704row3_col7 {\n",
       "            background-color:  #ffb400;\n",
       "            color:  #000000;\n",
       "        }    #T_4088f18a_1038_11ea_b4b8_28d244702704row4_col0 {\n",
       "            background-color:  #ffff00;\n",
       "            color:  #000000;\n",
       "        }    #T_4088f18a_1038_11ea_b4b8_28d244702704row4_col1 {\n",
       "            background-color:  #ffcb00;\n",
       "            color:  #000000;\n",
       "        }    #T_4088f18a_1038_11ea_b4b8_28d244702704row4_col2 {\n",
       "            background-color:  #ffbd00;\n",
       "            color:  #000000;\n",
       "        }    #T_4088f18a_1038_11ea_b4b8_28d244702704row4_col3 {\n",
       "            background-color:  #ffc800;\n",
       "            color:  #000000;\n",
       "        }    #T_4088f18a_1038_11ea_b4b8_28d244702704row4_col4 {\n",
       "            background-color:  #ffdd00;\n",
       "            color:  #000000;\n",
       "        }    #T_4088f18a_1038_11ea_b4b8_28d244702704row4_col5 {\n",
       "            background-color:  #ffd900;\n",
       "            color:  #000000;\n",
       "        }    #T_4088f18a_1038_11ea_b4b8_28d244702704row4_col6 {\n",
       "            background-color:  #ffd400;\n",
       "            color:  #000000;\n",
       "        }    #T_4088f18a_1038_11ea_b4b8_28d244702704row4_col7 {\n",
       "            background-color:  #ffcf00;\n",
       "            color:  #000000;\n",
       "        }    #T_4088f18a_1038_11ea_b4b8_28d244702704row5_col0 {\n",
       "            background-color:  #ff0000;\n",
       "            color:  #f1f1f1;\n",
       "        }    #T_4088f18a_1038_11ea_b4b8_28d244702704row5_col1 {\n",
       "            background-color:  #ff0000;\n",
       "            color:  #f1f1f1;\n",
       "        }    #T_4088f18a_1038_11ea_b4b8_28d244702704row5_col2 {\n",
       "            background-color:  #ff0000;\n",
       "            color:  #f1f1f1;\n",
       "        }    #T_4088f18a_1038_11ea_b4b8_28d244702704row5_col3 {\n",
       "            background-color:  #ff0000;\n",
       "            color:  #f1f1f1;\n",
       "        }    #T_4088f18a_1038_11ea_b4b8_28d244702704row5_col4 {\n",
       "            background-color:  #ff0000;\n",
       "            color:  #f1f1f1;\n",
       "        }    #T_4088f18a_1038_11ea_b4b8_28d244702704row5_col5 {\n",
       "            background-color:  #ff0000;\n",
       "            color:  #f1f1f1;\n",
       "        }    #T_4088f18a_1038_11ea_b4b8_28d244702704row5_col6 {\n",
       "            background-color:  #ff0000;\n",
       "            color:  #f1f1f1;\n",
       "        }    #T_4088f18a_1038_11ea_b4b8_28d244702704row5_col7 {\n",
       "            background-color:  #ff0000;\n",
       "            color:  #f1f1f1;\n",
       "        }</style><table id=\"T_4088f18a_1038_11ea_b4b8_28d244702704\" ><thead>    <tr>        <th class=\"index_name level0\" >ActivityName</th>        <th class=\"col_heading level0 col0\" >0</th>        <th class=\"col_heading level0 col1\" >LAYING</th>        <th class=\"col_heading level0 col2\" >SITTING</th>        <th class=\"col_heading level0 col3\" >STANDING</th>        <th class=\"col_heading level0 col4\" >WALKING</th>        <th class=\"col_heading level0 col5\" >WALKING_DOWNSTAIRS</th>        <th class=\"col_heading level0 col6\" >WALKING_UPSTAIRS</th>        <th class=\"col_heading level0 col7\" >All</th>    </tr>    <tr>        <th class=\"index_name level0\" >subject</th>        <th class=\"blank\" ></th>        <th class=\"blank\" ></th>        <th class=\"blank\" ></th>        <th class=\"blank\" ></th>        <th class=\"blank\" ></th>        <th class=\"blank\" ></th>        <th class=\"blank\" ></th>        <th class=\"blank\" ></th>    </tr></thead><tbody>\n",
       "                <tr>\n",
       "                        <th id=\"T_4088f18a_1038_11ea_b4b8_28d244702704level0_row0\" class=\"row_heading level0 row0\" >0.0</th>\n",
       "                        <td id=\"T_4088f18a_1038_11ea_b4b8_28d244702704row0_col0\" class=\"data row0 col0\" >2</td>\n",
       "                        <td id=\"T_4088f18a_1038_11ea_b4b8_28d244702704row0_col1\" class=\"data row0 col1\" >0</td>\n",
       "                        <td id=\"T_4088f18a_1038_11ea_b4b8_28d244702704row0_col2\" class=\"data row0 col2\" >0</td>\n",
       "                        <td id=\"T_4088f18a_1038_11ea_b4b8_28d244702704row0_col3\" class=\"data row0 col3\" >0</td>\n",
       "                        <td id=\"T_4088f18a_1038_11ea_b4b8_28d244702704row0_col4\" class=\"data row0 col4\" >0</td>\n",
       "                        <td id=\"T_4088f18a_1038_11ea_b4b8_28d244702704row0_col5\" class=\"data row0 col5\" >0</td>\n",
       "                        <td id=\"T_4088f18a_1038_11ea_b4b8_28d244702704row0_col6\" class=\"data row0 col6\" >0</td>\n",
       "                        <td id=\"T_4088f18a_1038_11ea_b4b8_28d244702704row0_col7\" class=\"data row0 col7\" >2</td>\n",
       "            </tr>\n",
       "            <tr>\n",
       "                        <th id=\"T_4088f18a_1038_11ea_b4b8_28d244702704level0_row1\" class=\"row_heading level0 row1\" >1.0</th>\n",
       "                        <td id=\"T_4088f18a_1038_11ea_b4b8_28d244702704row1_col0\" class=\"data row1 col0\" >0</td>\n",
       "                        <td id=\"T_4088f18a_1038_11ea_b4b8_28d244702704row1_col1\" class=\"data row1 col1\" >49</td>\n",
       "                        <td id=\"T_4088f18a_1038_11ea_b4b8_28d244702704row1_col2\" class=\"data row1 col2\" >47</td>\n",
       "                        <td id=\"T_4088f18a_1038_11ea_b4b8_28d244702704row1_col3\" class=\"data row1 col3\" >53</td>\n",
       "                        <td id=\"T_4088f18a_1038_11ea_b4b8_28d244702704row1_col4\" class=\"data row1 col4\" >47</td>\n",
       "                        <td id=\"T_4088f18a_1038_11ea_b4b8_28d244702704row1_col5\" class=\"data row1 col5\" >25</td>\n",
       "                        <td id=\"T_4088f18a_1038_11ea_b4b8_28d244702704row1_col6\" class=\"data row1 col6\" >26</td>\n",
       "                        <td id=\"T_4088f18a_1038_11ea_b4b8_28d244702704row1_col7\" class=\"data row1 col7\" >247</td>\n",
       "            </tr>\n",
       "            <tr>\n",
       "                        <th id=\"T_4088f18a_1038_11ea_b4b8_28d244702704level0_row2\" class=\"row_heading level0 row2\" >2.0</th>\n",
       "                        <td id=\"T_4088f18a_1038_11ea_b4b8_28d244702704row2_col0\" class=\"data row2 col0\" >0</td>\n",
       "                        <td id=\"T_4088f18a_1038_11ea_b4b8_28d244702704row2_col1\" class=\"data row2 col1\" >48</td>\n",
       "                        <td id=\"T_4088f18a_1038_11ea_b4b8_28d244702704row2_col2\" class=\"data row2 col2\" >46</td>\n",
       "                        <td id=\"T_4088f18a_1038_11ea_b4b8_28d244702704row2_col3\" class=\"data row2 col3\" >54</td>\n",
       "                        <td id=\"T_4088f18a_1038_11ea_b4b8_28d244702704row2_col4\" class=\"data row2 col4\" >59</td>\n",
       "                        <td id=\"T_4088f18a_1038_11ea_b4b8_28d244702704row2_col5\" class=\"data row2 col5\" >47</td>\n",
       "                        <td id=\"T_4088f18a_1038_11ea_b4b8_28d244702704row2_col6\" class=\"data row2 col6\" >48</td>\n",
       "                        <td id=\"T_4088f18a_1038_11ea_b4b8_28d244702704row2_col7\" class=\"data row2 col7\" >302</td>\n",
       "            </tr>\n",
       "            <tr>\n",
       "                        <th id=\"T_4088f18a_1038_11ea_b4b8_28d244702704level0_row3\" class=\"row_heading level0 row3\" >4.0</th>\n",
       "                        <td id=\"T_4088f18a_1038_11ea_b4b8_28d244702704row3_col0\" class=\"data row3 col0\" >0</td>\n",
       "                        <td id=\"T_4088f18a_1038_11ea_b4b8_28d244702704row3_col1\" class=\"data row3 col1\" >54</td>\n",
       "                        <td id=\"T_4088f18a_1038_11ea_b4b8_28d244702704row3_col2\" class=\"data row3 col2\" >50</td>\n",
       "                        <td id=\"T_4088f18a_1038_11ea_b4b8_28d244702704row3_col3\" class=\"data row3 col3\" >56</td>\n",
       "                        <td id=\"T_4088f18a_1038_11ea_b4b8_28d244702704row3_col4\" class=\"data row3 col4\" >60</td>\n",
       "                        <td id=\"T_4088f18a_1038_11ea_b4b8_28d244702704row3_col5\" class=\"data row3 col5\" >45</td>\n",
       "                        <td id=\"T_4088f18a_1038_11ea_b4b8_28d244702704row3_col6\" class=\"data row3 col6\" >52</td>\n",
       "                        <td id=\"T_4088f18a_1038_11ea_b4b8_28d244702704row3_col7\" class=\"data row3 col7\" >317</td>\n",
       "            </tr>\n",
       "            <tr>\n",
       "                        <th id=\"T_4088f18a_1038_11ea_b4b8_28d244702704level0_row4\" class=\"row_heading level0 row4\" >9.0</th>\n",
       "                        <td id=\"T_4088f18a_1038_11ea_b4b8_28d244702704row4_col0\" class=\"data row4 col0\" >0</td>\n",
       "                        <td id=\"T_4088f18a_1038_11ea_b4b8_28d244702704row4_col1\" class=\"data row4 col1\" >39</td>\n",
       "                        <td id=\"T_4088f18a_1038_11ea_b4b8_28d244702704row4_col2\" class=\"data row4 col2\" >50</td>\n",
       "                        <td id=\"T_4088f18a_1038_11ea_b4b8_28d244702704row4_col3\" class=\"data row4 col3\" >45</td>\n",
       "                        <td id=\"T_4088f18a_1038_11ea_b4b8_28d244702704row4_col4\" class=\"data row4 col4\" >26</td>\n",
       "                        <td id=\"T_4088f18a_1038_11ea_b4b8_28d244702704row4_col5\" class=\"data row4 col5\" >21</td>\n",
       "                        <td id=\"T_4088f18a_1038_11ea_b4b8_28d244702704row4_col6\" class=\"data row4 col6\" >26</td>\n",
       "                        <td id=\"T_4088f18a_1038_11ea_b4b8_28d244702704row4_col7\" class=\"data row4 col7\" >207</td>\n",
       "            </tr>\n",
       "            <tr>\n",
       "                        <th id=\"T_4088f18a_1038_11ea_b4b8_28d244702704level0_row5\" class=\"row_heading level0 row5\" >All</th>\n",
       "                        <td id=\"T_4088f18a_1038_11ea_b4b8_28d244702704row5_col0\" class=\"data row5 col0\" >2</td>\n",
       "                        <td id=\"T_4088f18a_1038_11ea_b4b8_28d244702704row5_col1\" class=\"data row5 col1\" >190</td>\n",
       "                        <td id=\"T_4088f18a_1038_11ea_b4b8_28d244702704row5_col2\" class=\"data row5 col2\" >193</td>\n",
       "                        <td id=\"T_4088f18a_1038_11ea_b4b8_28d244702704row5_col3\" class=\"data row5 col3\" >208</td>\n",
       "                        <td id=\"T_4088f18a_1038_11ea_b4b8_28d244702704row5_col4\" class=\"data row5 col4\" >192</td>\n",
       "                        <td id=\"T_4088f18a_1038_11ea_b4b8_28d244702704row5_col5\" class=\"data row5 col5\" >138</td>\n",
       "                        <td id=\"T_4088f18a_1038_11ea_b4b8_28d244702704row5_col6\" class=\"data row5 col6\" >152</td>\n",
       "                        <td id=\"T_4088f18a_1038_11ea_b4b8_28d244702704row5_col7\" class=\"data row5 col7\" >1075</td>\n",
       "            </tr>\n",
       "    </tbody></table>"
      ],
      "text/plain": [
       "<pandas.io.formats.style.Styler at 0x24440cacb70>"
      ]
     },
     "execution_count": 12,
     "metadata": {},
     "output_type": "execute_result"
    }
   ],
   "source": [
    "pd.crosstab(human.subject, human.ActivityName, margins=True).style.background_gradient(cmap='autumn_r')\n"
   ]
  },
  {
   "cell_type": "markdown",
   "metadata": {},
   "source": [
    "### Splitting data into train and test data sets "
   ]
  },
  {
   "cell_type": "code",
   "execution_count": 13,
   "metadata": {},
   "outputs": [
    {
     "name": "stdout",
     "output_type": "stream",
     "text": [
      "(752, 564) (323, 564)\n"
     ]
    }
   ],
   "source": [
    "from sklearn.model_selection import train_test_split\n",
    "from sklearn import metrics \n",
    "\n",
    "\n",
    "train, test = train_test_split(human, test_size=0.3) \n",
    "\n",
    "\n",
    "print(train.shape , test.shape)"
   ]
  },
  {
   "cell_type": "code",
   "execution_count": 23,
   "metadata": {},
   "outputs": [],
   "source": [
    "train_x = human.drop(['Activity','ActivityName'], axis = 1)\n",
    "train_y = human.Activity\n",
    "\n",
    "test_x = human.drop(['Activity','ActivityName'], axis = 1)\n",
    "test_y = human.Activity"
   ]
  },
  {
   "cell_type": "markdown",
   "metadata": {},
   "source": [
    "### Logistic Regression"
   ]
  },
  {
   "cell_type": "code",
   "execution_count": 24,
   "metadata": {},
   "outputs": [
    {
     "name": "stdout",
     "output_type": "stream",
     "text": [
      "The accuracy of Logistic Regression is:  0.9972093023255814\n"
     ]
    }
   ],
   "source": [
    "from sklearn.linear_model import LogisticRegression\n",
    "\n",
    "model = LogisticRegression()\n",
    "model.fit(train_x, train_y)\n",
    "prediction = model.predict(test_x)\n",
    "print('The accuracy of Logistic Regression is: ', metrics.accuracy_score(prediction, test_y))"
   ]
  },
  {
   "cell_type": "markdown",
   "metadata": {},
   "source": [
    "### K-Neighbors Classifier"
   ]
  },
  {
   "cell_type": "code",
   "execution_count": 16,
   "metadata": {},
   "outputs": [
    {
     "name": "stdout",
     "output_type": "stream",
     "text": [
      "The accuracy of KNN is:  0.9423255813953488\n"
     ]
    }
   ],
   "source": [
    "from sklearn.neighbors import KNeighborsClassifier\n",
    "\n",
    "model = KNeighborsClassifier(n_neighbors=20) \n",
    "model.fit(train_x, train_y)\n",
    "prediction = model.predict(test_x)\n",
    "print('The accuracy of KNN is: ', metrics.accuracy_score(prediction, test_y))"
   ]
  },
  {
   "cell_type": "markdown",
   "metadata": {},
   "source": [
    "### Support Vector Machine "
   ]
  },
  {
   "cell_type": "code",
   "execution_count": 17,
   "metadata": {},
   "outputs": [
    {
     "name": "stdout",
     "output_type": "stream",
     "text": [
      "The accuracy of the SVM is:  0.9506976744186046\n"
     ]
    }
   ],
   "source": [
    "from sklearn import svm \n",
    "svm_model = svm.SVC() \n",
    "\n",
    "svm_model.fit(train_x, train_y)\n",
    "\n",
    "prediction = svm_model.predict(test_x)\n",
    "print('The accuracy of the SVM is: ', metrics.accuracy_score(prediction, test_y)) "
   ]
  },
  {
   "cell_type": "markdown",
   "metadata": {},
   "source": [
    "### Decision Tree Classifier"
   ]
  },
  {
   "cell_type": "code",
   "execution_count": 25,
   "metadata": {},
   "outputs": [
    {
     "name": "stdout",
     "output_type": "stream",
     "text": [
      "the accuracy of Decision tree classifier is: 1.0\n",
      "[5.]\n"
     ]
    }
   ],
   "source": [
    "from sklearn.tree import DecisionTreeClassifier\n",
    "\n",
    "\n",
    "model = DecisionTreeClassifier()\n",
    "model.fit(train_x, train_y)\n",
    "prediction = model.predict(test_x)\n",
    "print('the accuracy of Decision tree classifier is:' ,metrics.accuracy_score(prediction,test_y))\n",
    "\n",
    "\n",
    "result = model.predict([[0.28602671,-0.013163359,-0.11908252,-0.97541469,-0.9674579,-0.94495817,-0.9867988,-0.96840133,-0.9458234,-0.89408755,-0.55457721,-0.80601325,0.76803131,0.68369799,0.79670578,-0.96909654,-0.99957952,-0.99964558,-0.99772028,-0.9940063,-0.97363671,-0.95071985,-0.30243696,-0.34824317,-0.40478535,0.5074924,-0.15649451,0.040673682,0.27299122,0.19756581,-0.19455563,0.41141089,-0.3404662,0.07755506,-0.084024482,0.035304993,-0.010082532,-0.1049829,-0.42913351,0.39917698,0.92740359,-0.28921515,0.15256831,-0.98905711,-0.9838872,-0.96478113,-0.98899958,-0.98315936,-0.96520631,0.85617578,-0.30487004,0.15289519,0.9444614,-0.26215956,0.14901318,0.057676487,0.80557472,-0.85816306,-0.95723959,-0.98840345,-0.98168751,-0.97121523,-0.72888396,-1.0,-0.46504709,-0.50988188,0.52542419,-0.54024472,0.55444699,-0.74568691,0.73317067,-0.73739047,0.74869829,-0.8451508,0.86929012,-0.89306457,0.91311888,0.94523268,-0.9114153,-0.73853452,0.070180689,-0.017876016,-0.0017206291,-0.94920395,-0.97269891,-0.9777267,-0.96931198,-0.97372273,-0.97861789,-0.91509297,-0.98124288,-0.97767968,0.89847935,0.96773819,0.96609479,-0.97430719,-0.99837377,-0.99936483,-0.99942623,-0.97974224,-0.97909583,-0.98526293,-0.49723319,-0.65575119,-0.6144241,0.3979661,0.29974329,0.23919281,0.36635961,0.21215592,-0.18363333,0.50841803,0.23214979,-0.0028318903,-0.038097032999999995,-0.082656991,0.1015615,-0.15319717,-0.27996556,0.49761213,-0.0015524629,-0.18729119,0.18070522,-0.92556647,-0.9295992,-0.96758097,-0.91785483,-0.9500255,-0.96703476,-0.81033667,-0.86987891,-0.70321219,0.82303253,0.87078027,0.8440353,-0.88875689,-0.99691861,-0.99519449,-0.99594793,-0.91132238,-0.96068474,-0.9692744,-0.018361191000000002,-0.85159109,0.30504741,-0.2470263,0.3089064,-0.4820437,0.50874888,-0.25023745,0.19068988,-0.13627272,0.19949752,-0.011898633999999998,-0.13845696,0.33537089,-0.27653307,-0.0029727858,0.54181281,-0.53396236,-0.13866849,-0.025802071,-0.071418405,-0.96230415,-0.95628941,-0.98134077,-0.96861415,-0.97402395,-0.9821632,-0.95925594,-0.95113178,-0.97956968,0.94972586,0.92982517,0.97707817,-0.97512556,-0.99913331,-0.99894037,-0.99971914,-0.97552795,-0.98727568,-0.98252604,-0.29249393,-0.14390965,-0.38607798,-0.052974102,0.20970463,-0.11165626,-0.25754483,-0.19712748,0.25112852,-0.048357479,0.15821812,0.15886386,-0.23110857,0.31568162,0.14344499,0.28485043,-0.17115207,-0.24811318,-0.96896136,-0.95390243,-0.9631648,-0.93760822,-0.98594423,-0.96896136,-0.99891989,-0.97621997,-0.32934503,0.45848929,-0.45648942,0.48812207,-0.34826197,-0.96896136,-0.95390243,-0.9631648,-0.93760822,-0.98594423,-0.96896136,-0.99891989,-0.97621997,-0.32934503,0.45848929,-0.45648942,0.48812207,-0.34826197,-0.97371675,-0.94100781,-0.95965336,-0.92883747,-0.97501109,-0.97371675,-0.99878975,-0.97808074,-0.52770828,-0.31861692,0.18419955,-0.4600965,0.71335686,-0.89843314,-0.91085833,-0.90111039,-0.90243173,-0.89375272,-0.89843314,-0.99418034,-0.91018512,0.39460411,0.030128461000000002,-0.037523895,0.081124765,-0.22204048,-0.97339341,-0.94409,-0.96062105,-0.92928731,-0.97636665,-0.97339341,-0.99908562,-0.98440919,-0.18620412,0.032238715,0.010253069,-0.65001828,0.52648944,-0.96090303,-0.96443332,-0.95667485,-0.98434996,-0.97017476,-0.94186191,-0.97576424,-0.97025651,-0.94424865,-0.99305058,-0.97435703,-0.94267037,-0.97244987,-0.98560555,-0.99954429,-0.9576235,-0.99959226,-0.99914881,-0.99759946,-0.95503227,-0.97100249,-0.96622982,-0.60401282,-0.7868864,-0.61029779,-0.80645161,-1.0,-1.0,0.35206637,0.17454676,-0.32067339,-0.91817642,-0.99876166,-0.32635354,-0.65708714,-0.32768638,-0.62740522,-0.99985038,-0.99958185,-0.99871827,-0.99785674,-0.99618566,-0.99772986,-0.99923826,-0.9998986,-0.99975978,-0.99826642,-0.99677956,-0.9994596,-0.9996875,-0.99692971,-0.99914154,-0.99971528,-0.99955092,-0.99864504,-0.99975136,-0.99958403,-0.99909598,-0.99941708,-0.99921232,-0.99918197,-0.99969127,-0.99920247,-0.9992024,-0.99892292,-0.9971858,-0.99925119,-0.99969618,-0.99973917,-0.99944873,-0.99931302,-0.99910767,-0.99999943,-0.99754011,-0.99974512,-0.99942008,-0.99937662,-0.99758464,-0.99966494,-0.94351902,-0.96916232,-0.97344886,-0.9616312,-0.98002631,-0.9807873,-0.94581039,-0.97727429,-0.9771656,-0.97739496,-0.98708657,-0.98420241,-0.97856685,-0.95346874,-0.99666442,-0.95549103,-0.99837082,-0.99936709,-0.99942621,-0.92959842,-0.97323045,-0.97314572,-0.60663326,-1.0,-0.94221628,-0.16,-0.32,-0.4,0.47285157,0.16719768,-0.24311457,-0.92564669,-0.96585813,-0.72081204,-0.99244457,-0.76472733,-0.94477245,-0.9999176,-0.99949503,-0.99864617,-0.9977,-0.99590186,-0.9967749,-0.99882253,-0.99993425,-0.99964085,-0.99792454,-0.99593387,-0.99883025,-0.9991966,-0.99558152,-0.99940718,-0.99975774,-0.99955405,-0.99921997,-0.99954062,-0.99895241,-0.9984723,-0.99900669,-0.99964754,-0.99931592,-0.99922621,-0.99854372,-0.99954931,-0.99923397,-0.99822495,-0.99913438,-0.99970708,-0.99969529,-0.99944774,-0.99928606,-0.99849709,-0.99998246,-0.99866241,-0.99973082,-0.99936986,-0.99857259,-0.99924746,-0.99959354,-0.92251305,-0.92649565,-0.96822947,-0.92705058,-0.93201069,-0.97014338,-0.94002686,-0.93385187,-0.96711895,-0.90351102,-0.94876577,-0.97769398,-0.98895963,-0.96113628,-0.97518109,-0.93129537,-0.99708995,-0.9973439,-0.99933071,-0.94769376,-0.94111044,-0.97883559,-0.2382949,-0.090747872,-0.59450969,-1.0,-0.93548387,-0.93103448,0.018108616,-0.22726634,-0.15169839,0.55748317,0.3802534,-0.39647764,-0.75907355,-0.15021964,-0.54836626,-0.99711739,-0.99927586,-0.99908129,-0.99723597,-0.99859638,-0.99822263,-0.99820248,-0.99758952,-0.99718123,-0.99813535,-0.99830444,-0.99793127,-0.99717971,-0.99751517,-0.99684596,-0.99891614,-0.99956045,-0.99947087,-0.99929274,-0.99920953,-0.99924091,-0.99971395,-0.99717219,-0.99942888,-0.99926884,-0.99934261,-0.99716421,-0.99936695,-0.99938913,-0.99981406,-0.99986171,-0.99985985,-0.999919,-0.99983843,-0.9991763,-0.99971777,-0.99935853,-0.99980295,-0.99990289,-0.99941193,-0.99934481,-0.99987511,-0.95412665,-0.95974581,-0.96067959,-0.96866664,-0.95686058,-0.95412665,-0.99847624,-0.98301141,-0.75205571,-0.86206897,0.20346524,-0.20658816,-0.59942747,-0.94543723,-0.934152,-0.92931478,-0.94997296,-0.96770522,-0.94543723,-0.99761001,-0.95717755,-0.72364204,-1.0,-0.49121253,-0.21540436,-0.66600409,-0.92446082,-0.91677415,-0.91938282,-0.9179834,-0.99112142,-0.92446082,-0.99572702,-0.93312729,-0.21886018,-1.0,-0.031473918,-0.090654846,-0.46180113,-0.95197735,-0.93821243,-0.9380079,-0.94992217,-0.98690245,-0.95197735,-0.99827154,-0.95125489,-0.43105336,-1.0,-0.40118872,-0.12184509,-0.59494387,-0.083494968,0.017499571999999998,-0.43437455,0.92059323,-0.69809082,0.28134292,-0.083898014,2\n",
    "]])\n",
    "\n",
    "print(result)"
   ]
  },
  {
   "cell_type": "code",
   "execution_count": 26,
   "metadata": {},
   "outputs": [
    {
     "data": {
      "text/plain": [
       "array([5., 4., 6., 1., 3., 2., 0.])"
      ]
     },
     "execution_count": 26,
     "metadata": {},
     "output_type": "execute_result"
    }
   ],
   "source": [
    "human['Activity'].unique()"
   ]
  },
  {
   "cell_type": "code",
   "execution_count": null,
   "metadata": {},
   "outputs": [],
   "source": []
  }
 ],
 "metadata": {
  "kernelspec": {
   "display_name": "Python 3",
   "language": "python",
   "name": "python3"
  },
  "language_info": {
   "codemirror_mode": {
    "name": "ipython",
    "version": 3
   },
   "file_extension": ".py",
   "mimetype": "text/x-python",
   "name": "python",
   "nbconvert_exporter": "python",
   "pygments_lexer": "ipython3",
   "version": "3.7.3"
  }
 },
 "nbformat": 4,
 "nbformat_minor": 2
}
